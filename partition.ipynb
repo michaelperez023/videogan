{
 "cells": [
  {
   "cell_type": "code",
   "execution_count": 1,
   "metadata": {},
   "outputs": [],
   "source": [
    "import os\n",
    "import shutil\n",
    "\n",
    "directory = \"/blue/ctolerfranklin/michaelperez012/videogan-pytorch/UCF-101-clipped-resized\"\n",
    "new_directory = \"/blue/ctolerfranklin/michaelperez012/videogan-pytorch/UCF-101-partitioned\""
   ]
  },
  {
   "cell_type": "code",
   "execution_count": 2,
   "metadata": {},
   "outputs": [],
   "source": [
    "for filename in os.listdir(directory):\n",
    "    f = os.path.join(directory, filename)\n",
    "    \n",
    "    vals = f.split(\"_\")\n",
    "    vals[1]\n",
    "    if not os.path.exists(new_directory + \"/\" + vals[1]):\n",
    "        os.makedirs(new_directory + \"/\" + vals[1])\n",
    "        \n",
    "    shutil.copy(f, os.path.join(new_directory, vals[1], filename))"
   ]
  }
 ],
 "metadata": {
  "kernelspec": {
   "display_name": "nlp-1.2",
   "language": "python",
   "name": "nlp-1.2"
  },
  "language_info": {
   "codemirror_mode": {
    "name": "ipython",
    "version": 3
   },
   "file_extension": ".py",
   "mimetype": "text/x-python",
   "name": "python",
   "nbconvert_exporter": "python",
   "pygments_lexer": "ipython3",
   "version": "3.8.12"
  }
 },
 "nbformat": 4,
 "nbformat_minor": 4
}
